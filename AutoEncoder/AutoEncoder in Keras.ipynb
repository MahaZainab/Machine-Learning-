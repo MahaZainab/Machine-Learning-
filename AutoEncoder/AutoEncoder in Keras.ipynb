{
 "cells": [
  {
   "cell_type": "markdown",
   "id": "0743c212",
   "metadata": {},
   "source": [
    "# the simplest possible autoencoder"
   ]
  },
  {
   "cell_type": "code",
   "execution_count": null,
   "id": "d9daa5ea",
   "metadata": {},
   "outputs": [],
   "source": []
  },
  {
   "cell_type": "code",
   "execution_count": 2,
   "id": "0e7bf636",
   "metadata": {},
   "outputs": [],
   "source": [
    "import tensorflow as tf\n",
    "import keras \n",
    "import numpy as np\n",
    "import matplotlib.pyplot as plt"
   ]
  },
  {
   "cell_type": "code",
   "execution_count": 3,
   "id": "a97d51f3",
   "metadata": {},
   "outputs": [],
   "source": [
    "import keras\n",
    "from keras import layers\n",
    "\n",
    "# This is the size of our encoded representations\n",
    "encoding_dim = 32  # 32 floats -> compression of factor 24.5, assuming the input is 784 floats\n",
    "\n",
    "# This is our input image\n",
    "input_img = keras.Input(shape=(784,))\n",
    "# \"encoded\" is the encoded representation of the input\n",
    "encoded = layers.Dense(encoding_dim, activation='relu')(input_img)\n",
    "# \"decoded\" is the lossy reconstruction of the input\n",
    "decoded = layers.Dense(784, activation='sigmoid')(encoded)\n",
    "\n",
    "# This model maps an input to its reconstruction\n",
    "autoencoder = keras.Model(input_img, decoded)"
   ]
  },
  {
   "cell_type": "code",
   "execution_count": 4,
   "id": "ce843143",
   "metadata": {},
   "outputs": [],
   "source": [
    "# create a separate encoder model"
   ]
  },
  {
   "cell_type": "code",
   "execution_count": 5,
   "id": "227cef90",
   "metadata": {},
   "outputs": [],
   "source": [
    "# This model maps an input to its encoded representation\n",
    "encoder = keras.Model(input_img, encoded)"
   ]
  },
  {
   "cell_type": "code",
   "execution_count": 6,
   "id": "275833be",
   "metadata": {},
   "outputs": [],
   "source": [
    "# As well as the decoder model"
   ]
  },
  {
   "cell_type": "code",
   "execution_count": 7,
   "id": "df7240bd",
   "metadata": {},
   "outputs": [],
   "source": [
    "# This is our encoded (32-dimensional) input\n",
    "encoded_input = keras.Input(shape=(encoding_dim,))\n",
    "# Retrieve the last layer of the autoencoder model\n",
    "decoder_layer = autoencoder.layers[-1]\n",
    "# Create the decoder model\n",
    "decoder = keras.Model(encoded_input, decoder_layer(encoded_input))"
   ]
  },
  {
   "cell_type": "code",
   "execution_count": 8,
   "id": "10882f6f",
   "metadata": {},
   "outputs": [],
   "source": [
    "# train our autoencoder to reconstruct MNIST digits"
   ]
  },
  {
   "cell_type": "code",
   "execution_count": 9,
   "id": "b9fd6cb6",
   "metadata": {},
   "outputs": [],
   "source": [
    " # configure our model to use a per-pixel binary crossentropy loss, and the Adam optimizer\n",
    "    \n",
    "autoencoder.compile(optimizer='adam', loss='binary_crossentropy')"
   ]
  },
  {
   "cell_type": "code",
   "execution_count": 11,
   "id": "9952b254",
   "metadata": {},
   "outputs": [],
   "source": [
    "#prepare our input data. We're using MNIST digits, and we're discarding the labels \n",
    "# (since we're only interested in encoding/decoding the input images)"
   ]
  },
  {
   "cell_type": "code",
   "execution_count": 12,
   "id": "9fe6c0fb",
   "metadata": {},
   "outputs": [
    {
     "name": "stdout",
     "output_type": "stream",
     "text": [
      "Downloading data from https://storage.googleapis.com/tensorflow/tf-keras-datasets/mnist.npz\n",
      "11493376/11490434 [==============================] - 809s 70us/step\n",
      "11501568/11490434 [==============================] - 809s 70us/step\n"
     ]
    }
   ],
   "source": [
    "from keras.datasets import mnist\n",
    "import numpy as np\n",
    "(x_train, _), (x_test, _) = mnist.load_data()"
   ]
  },
  {
   "cell_type": "code",
   "execution_count": 15,
   "id": "f91da51d",
   "metadata": {},
   "outputs": [],
   "source": [
    "#We will normalize all values between 0 and 1 and we will flatten the 28x28 images into vectors of size 784."
   ]
  },
  {
   "cell_type": "code",
   "execution_count": 16,
   "id": "5f343129",
   "metadata": {},
   "outputs": [
    {
     "name": "stdout",
     "output_type": "stream",
     "text": [
      "(60000, 784)\n",
      "(10000, 784)\n"
     ]
    }
   ],
   "source": [
    "x_train = x_train.astype('float32') / 255.\n",
    "x_test = x_test.astype('float32') / 255.\n",
    "x_train = x_train.reshape((len(x_train), np.prod(x_train.shape[1:])))\n",
    "x_test = x_test.reshape((len(x_test), np.prod(x_test.shape[1:])))\n",
    "print(x_train.shape)\n",
    "print(x_test.shape)"
   ]
  },
  {
   "cell_type": "code",
   "execution_count": 17,
   "id": "92e711f1",
   "metadata": {},
   "outputs": [
    {
     "name": "stdout",
     "output_type": "stream",
     "text": [
      "Epoch 1/50\n",
      "235/235 [==============================] - 6s 13ms/step - loss: 0.3984 - val_loss: 0.0950\n",
      "Epoch 2/50\n",
      "235/235 [==============================] - 3s 11ms/step - loss: 0.0425 - val_loss: 0.0191\n",
      "Epoch 3/50\n",
      "235/235 [==============================] - 3s 11ms/step - loss: 0.0134 - val_loss: 0.0096\n",
      "Epoch 4/50\n",
      "235/235 [==============================] - 3s 11ms/step - loss: 0.0080 - val_loss: 0.0068\n",
      "Epoch 5/50\n",
      "235/235 [==============================] - 2s 10ms/step - loss: 0.0062 - val_loss: 0.0057\n",
      "Epoch 6/50\n",
      "235/235 [==============================] - 3s 11ms/step - loss: 0.0054 - val_loss: 0.0051\n",
      "Epoch 7/50\n",
      "235/235 [==============================] - 2s 10ms/step - loss: 0.0050 - val_loss: 0.0048\n",
      "Epoch 8/50\n",
      "235/235 [==============================] - 2s 10ms/step - loss: 0.0047 - val_loss: 0.0047\n",
      "Epoch 9/50\n",
      "235/235 [==============================] - 3s 11ms/step - loss: 0.0046 - val_loss: 0.0045\n",
      "Epoch 10/50\n",
      "235/235 [==============================] - 3s 11ms/step - loss: 0.0045 - val_loss: 0.0045\n",
      "Epoch 11/50\n",
      "235/235 [==============================] - 2s 10ms/step - loss: 0.0044 - val_loss: 0.0044\n",
      "Epoch 12/50\n",
      "235/235 [==============================] - 2s 10ms/step - loss: 0.0043 - val_loss: 0.0044\n",
      "Epoch 13/50\n",
      "235/235 [==============================] - 2s 10ms/step - loss: 0.0043 - val_loss: 0.0043\n",
      "Epoch 14/50\n",
      "235/235 [==============================] - 2s 10ms/step - loss: 0.0043 - val_loss: 0.0043\n",
      "Epoch 15/50\n",
      "235/235 [==============================] - 3s 11ms/step - loss: 0.0042 - val_loss: 0.0043\n",
      "Epoch 16/50\n",
      "235/235 [==============================] - 3s 11ms/step - loss: 0.0042 - val_loss: 0.0043\n",
      "Epoch 17/50\n",
      "235/235 [==============================] - 3s 11ms/step - loss: 0.0042 - val_loss: 0.0042\n",
      "Epoch 18/50\n",
      "235/235 [==============================] - 2s 10ms/step - loss: 0.0042 - val_loss: 0.0042\n",
      "Epoch 19/50\n",
      "235/235 [==============================] - 2s 10ms/step - loss: 0.0042 - val_loss: 0.0042\n",
      "Epoch 20/50\n",
      "235/235 [==============================] - 2s 11ms/step - loss: 0.0042 - val_loss: 0.0042\n",
      "Epoch 21/50\n",
      "235/235 [==============================] - 3s 11ms/step - loss: 0.0042 - val_loss: 0.0042\n",
      "Epoch 22/50\n",
      "235/235 [==============================] - 3s 11ms/step - loss: 0.0041 - val_loss: 0.0042\n",
      "Epoch 23/50\n",
      "235/235 [==============================] - 3s 11ms/step - loss: 0.0041 - val_loss: 0.0042\n",
      "Epoch 24/50\n",
      "235/235 [==============================] - 3s 11ms/step - loss: 0.0041 - val_loss: 0.0042\n",
      "Epoch 25/50\n",
      "235/235 [==============================] - 3s 11ms/step - loss: 0.0041 - val_loss: 0.0042\n",
      "Epoch 26/50\n",
      "235/235 [==============================] - 3s 11ms/step - loss: 0.0041 - val_loss: 0.0041\n",
      "Epoch 27/50\n",
      "235/235 [==============================] - 3s 11ms/step - loss: 0.0041 - val_loss: 0.0041\n",
      "Epoch 28/50\n",
      "235/235 [==============================] - 3s 12ms/step - loss: 0.0041 - val_loss: 0.0041\n",
      "Epoch 29/50\n",
      "235/235 [==============================] - 3s 11ms/step - loss: 0.0041 - val_loss: 0.0041\n",
      "Epoch 30/50\n",
      "235/235 [==============================] - 3s 11ms/step - loss: 0.0041 - val_loss: 0.0041\n",
      "Epoch 31/50\n",
      "235/235 [==============================] - 2s 10ms/step - loss: 0.0041 - val_loss: 0.0041\n",
      "Epoch 32/50\n",
      "235/235 [==============================] - 3s 11ms/step - loss: 0.0041 - val_loss: 0.0041\n",
      "Epoch 33/50\n",
      "235/235 [==============================] - 3s 11ms/step - loss: 0.0041 - val_loss: 0.0041\n",
      "Epoch 34/50\n",
      "235/235 [==============================] - 3s 11ms/step - loss: 0.0040 - val_loss: 0.0041\n",
      "Epoch 35/50\n",
      "235/235 [==============================] - 3s 11ms/step - loss: 0.0040 - val_loss: 0.0041\n",
      "Epoch 36/50\n",
      "235/235 [==============================] - 2s 10ms/step - loss: 0.0040 - val_loss: 0.0041\n",
      "Epoch 37/50\n",
      "235/235 [==============================] - 2s 10ms/step - loss: 0.0040 - val_loss: 0.0041\n",
      "Epoch 38/50\n",
      "235/235 [==============================] - 2s 10ms/step - loss: 0.0040 - val_loss: 0.0041\n",
      "Epoch 39/50\n",
      "235/235 [==============================] - 2s 10ms/step - loss: 0.0040 - val_loss: 0.0041\n",
      "Epoch 40/50\n",
      "235/235 [==============================] - 3s 11ms/step - loss: 0.0040 - val_loss: 0.0040\n",
      "Epoch 41/50\n",
      "235/235 [==============================] - 3s 11ms/step - loss: 0.0040 - val_loss: 0.0040\n",
      "Epoch 42/50\n",
      "235/235 [==============================] - 2s 11ms/step - loss: 0.0040 - val_loss: 0.0040\n",
      "Epoch 43/50\n",
      "235/235 [==============================] - 2s 10ms/step - loss: 0.0040 - val_loss: 0.0040\n",
      "Epoch 44/50\n",
      "235/235 [==============================] - 3s 11ms/step - loss: 0.0040 - val_loss: 0.0040\n",
      "Epoch 45/50\n",
      "235/235 [==============================] - 3s 11ms/step - loss: 0.0040 - val_loss: 0.0040\n",
      "Epoch 46/50\n",
      "235/235 [==============================] - 3s 11ms/step - loss: 0.0040 - val_loss: 0.0040\n",
      "Epoch 47/50\n",
      "235/235 [==============================] - 3s 12ms/step - loss: 0.0040 - val_loss: 0.0040\n",
      "Epoch 48/50\n",
      "235/235 [==============================] - 3s 11ms/step - loss: 0.0040 - val_loss: 0.0040\n",
      "Epoch 49/50\n",
      "235/235 [==============================] - 2s 10ms/step - loss: 0.0040 - val_loss: 0.0040\n",
      "Epoch 50/50\n",
      "235/235 [==============================] - 2s 10ms/step - loss: 0.0040 - val_loss: 0.0040\n"
     ]
    },
    {
     "data": {
      "text/plain": [
       "<keras.callbacks.History at 0x148c62e6af0>"
      ]
     },
     "execution_count": 17,
     "metadata": {},
     "output_type": "execute_result"
    }
   ],
   "source": [
    "# train our autoencoder for 50 epochs:\n",
    "autoencoder.fit(x_train, x_train,\n",
    "                epochs=50,\n",
    "                batch_size=256,\n",
    "                shuffle=True,\n",
    "                validation_data=(x_test, x_test))"
   ]
  },
  {
   "cell_type": "code",
   "execution_count": null,
   "id": "3db40a40",
   "metadata": {},
   "outputs": [],
   "source": []
  },
  {
   "cell_type": "code",
   "execution_count": 19,
   "id": "daa72560",
   "metadata": {},
   "outputs": [
    {
     "data": {
      "text/plain": [
       "'After 50 epochs, the autoencoder seems to reach a stable train/validation loss value of about 0.09.\\nWe can try to visualize the reconstructed inputs and the encoded representations.\\nWe will use Matplotlib.\\n'"
      ]
     },
     "execution_count": 19,
     "metadata": {},
     "output_type": "execute_result"
    }
   ],
   "source": [
    "'''After 50 epochs, the autoencoder seems to reach a stable train/validation loss value of about 0.09.\n",
    "We can try to visualize the reconstructed inputs and the encoded representations.\n",
    "We will use Matplotlib.\n",
    "'''"
   ]
  },
  {
   "cell_type": "code",
   "execution_count": null,
   "id": "01610f68",
   "metadata": {},
   "outputs": [],
   "source": []
  },
  {
   "cell_type": "code",
   "execution_count": 20,
   "id": "ce3649a0",
   "metadata": {},
   "outputs": [],
   "source": [
    "# Encode and decode some digits\n",
    "# Note that we take them from the *test* set\n",
    "encoded_imgs = encoder.predict(x_test)\n",
    "decoded_imgs = decoder.predict(encoded_imgs)"
   ]
  },
  {
   "cell_type": "code",
   "execution_count": 21,
   "id": "f2afb2d3",
   "metadata": {},
   "outputs": [
    {
     "data": {
      "image/png": "[encoded data removed]",
      "text/plain": [
       "<Figure size 1440x288 with 20 Axes>"
      ]
     },
     "metadata": {
      "needs_background": "light"
     },
     "output_type": "display_data"
    }
   ],
   "source": [
    "# Use Matplotlib (don't ask)\n",
    "import matplotlib.pyplot as plt\n",
    "\n",
    "n = 10  # How many digits we will display\n",
    "plt.figure(figsize=(20, 4))\n",
    "for i in range(n):\n",
    "    # Display original\n",
    "    ax = plt.subplot(2, n, i + 1)\n",
    "    plt.imshow(x_test[i].reshape(28, 28))\n",
    "    plt.gray()\n",
    "    ax.get_xaxis().set_visible(False)\n",
    "    ax.get_yaxis().set_visible(False)\n",
    "\n",
    "    # Display reconstruction\n",
    "    ax = plt.subplot(2, n, i + 1 + n)\n",
    "    plt.imshow(decoded_imgs[i].reshape(28, 28))\n",
    "    plt.gray()\n",
    "    ax.get_xaxis().set_visible(False)\n",
    "    ax.get_yaxis().set_visible(False)\n",
    "plt.show()"
   ]
  },
  {
   "cell_type": "code",
   "execution_count": null,
   "id": "84cd3989",
   "metadata": {},
   "outputs": [],
   "source": []
  },
  {
   "cell_type": "code",
   "execution_count": 23,
   "id": "0e8af6d7",
   "metadata": {},
   "outputs": [],
   "source": [
    "# Adding a sparsity constraint on the encoded representations\n"
   ]
  },
  {
   "cell_type": "code",
   "execution_count": 24,
   "id": "7a42296c",
   "metadata": {},
   "outputs": [],
   "source": [
    "from keras import regularizers\n",
    "\n",
    "encoding_dim = 32\n",
    "\n",
    "input_img = keras.Input(shape=(784,))\n",
    "# Add a Dense layer with a L1 activity regularizer\n",
    "encoded = layers.Dense(encoding_dim, activation='relu',\n",
    "                activity_regularizer=regularizers.l1(10e-5))(input_img)\n",
    "decoded = layers.Dense(784, activation='sigmoid')(encoded)\n",
    "\n",
    "autoencoder = keras.Model(input_img, decoded)"
   ]
  },
  {
   "cell_type": "code",
   "execution_count": null,
   "id": "6dcdf467",
   "metadata": {},
   "outputs": [],
   "source": []
  },
  {
   "cell_type": "markdown",
   "id": "6014c871",
   "metadata": {},
   "source": [
    "# Deep autoencoder\n"
   ]
  },
  {
   "cell_type": "code",
   "execution_count": 25,
   "id": "f2e4bfad",
   "metadata": {},
   "outputs": [],
   "source": [
    "# We do not have to limit ourselves to a single layer as encoder or decoder, we could instead use a stack of layers, such as:\n",
    "\n",
    "\n",
    "input_img = keras.Input(shape=(784,))\n",
    "encoded = layers.Dense(128, activation='relu')(input_img)\n",
    "encoded = layers.Dense(64, activation='relu')(encoded)\n",
    "encoded = layers.Dense(32, activation='relu')(encoded)\n",
    "\n",
    "decoded = layers.Dense(64, activation='relu')(encoded)\n",
    "decoded = layers.Dense(128, activation='relu')(decoded)\n",
    "decoded = layers.Dense(784, activation='sigmoid')(decoded)"
   ]
  },
  {
   "cell_type": "code",
   "execution_count": 26,
   "id": "bf3f2062",
   "metadata": {},
   "outputs": [
    {
     "name": "stdout",
     "output_type": "stream",
     "text": [
      "Epoch 1/100\n",
      "235/235 [==============================] - 5s 19ms/step - loss: 0.0966 - val_loss: 0.0041\n",
      "Epoch 2/100\n",
      "235/235 [==============================] - 5s 21ms/step - loss: 0.0041 - val_loss: 0.0041\n",
      "Epoch 3/100\n",
      "235/235 [==============================] - 5s 21ms/step - loss: 0.0041 - val_loss: 0.0041\n",
      "Epoch 4/100\n",
      "235/235 [==============================] - 5s 20ms/step - loss: 0.0040 - val_loss: 0.0041\n",
      "Epoch 5/100\n",
      "235/235 [==============================] - 6s 23ms/step - loss: 0.0040 - val_loss: 0.0040\n",
      "Epoch 6/100\n",
      "235/235 [==============================] - 5s 23ms/step - loss: 0.0040 - val_loss: 0.0040\n",
      "Epoch 7/100\n",
      "235/235 [==============================] - 4s 19ms/step - loss: 0.0040 - val_loss: 0.0040\n",
      "Epoch 8/100\n",
      "235/235 [==============================] - 5s 19ms/step - loss: 0.0039 - val_loss: 0.0040\n",
      "Epoch 9/100\n",
      "235/235 [==============================] - 5s 20ms/step - loss: 0.0039 - val_loss: 0.0040\n",
      "Epoch 10/100\n",
      "235/235 [==============================] - 6s 24ms/step - loss: 0.0039 - val_loss: 0.0040\n",
      "Epoch 11/100\n",
      "235/235 [==============================] - 5s 21ms/step - loss: 0.0039 - val_loss: 0.0040\n",
      "Epoch 12/100\n",
      "235/235 [==============================] - 4s 19ms/step - loss: 0.0039 - val_loss: 0.0040\n",
      "Epoch 13/100\n",
      "235/235 [==============================] - 4s 18ms/step - loss: 0.0039 - val_loss: 0.0040\n",
      "Epoch 14/100\n",
      "235/235 [==============================] - 4s 18ms/step - loss: 0.0039 - val_loss: 0.0040\n",
      "Epoch 15/100\n",
      "235/235 [==============================] - 5s 19ms/step - loss: 0.0039 - val_loss: 0.0040\n",
      "Epoch 16/100\n",
      "235/235 [==============================] - 4s 18ms/step - loss: 0.0039 - val_loss: 0.0040\n",
      "Epoch 17/100\n",
      "235/235 [==============================] - 4s 18ms/step - loss: 0.0039 - val_loss: 0.0040\n",
      "Epoch 18/100\n",
      "235/235 [==============================] - 4s 19ms/step - loss: 0.0039 - val_loss: 0.0040\n",
      "Epoch 19/100\n",
      "235/235 [==============================] - 5s 19ms/step - loss: 0.0039 - val_loss: 0.0040\n",
      "Epoch 20/100\n",
      "235/235 [==============================] - 5s 21ms/step - loss: 0.0039 - val_loss: 0.0039\n",
      "Epoch 21/100\n",
      "235/235 [==============================] - 5s 19ms/step - loss: 0.0039 - val_loss: 0.0039\n",
      "Epoch 22/100\n",
      "235/235 [==============================] - 5s 20ms/step - loss: 0.0039 - val_loss: 0.0039\n",
      "Epoch 23/100\n",
      "235/235 [==============================] - 5s 20ms/step - loss: 0.0039 - val_loss: 0.0039\n",
      "Epoch 24/100\n",
      "235/235 [==============================] - 4s 18ms/step - loss: 0.0039 - val_loss: 0.0039\n",
      "Epoch 25/100\n",
      "235/235 [==============================] - 5s 19ms/step - loss: 0.0039 - val_loss: 0.0039\n",
      "Epoch 26/100\n",
      "235/235 [==============================] - 5s 21ms/step - loss: 0.0039 - val_loss: 0.0039\n",
      "Epoch 27/100\n",
      "235/235 [==============================] - 4s 19ms/step - loss: 0.0039 - val_loss: 0.0039\n",
      "Epoch 28/100\n",
      "235/235 [==============================] - 4s 19ms/step - loss: 0.0039 - val_loss: 0.0039\n",
      "Epoch 29/100\n",
      "235/235 [==============================] - 5s 21ms/step - loss: 0.0039 - val_loss: 0.0039\n",
      "Epoch 30/100\n",
      "235/235 [==============================] - 5s 19ms/step - loss: 0.0039 - val_loss: 0.0039\n",
      "Epoch 31/100\n",
      "235/235 [==============================] - 4s 19ms/step - loss: 0.0039 - val_loss: 0.0039\n",
      "Epoch 32/100\n",
      "235/235 [==============================] - 4s 19ms/step - loss: 0.0038 - val_loss: 0.0039\n",
      "Epoch 33/100\n",
      "235/235 [==============================] - 5s 20ms/step - loss: 0.0038 - val_loss: 0.0039\n",
      "Epoch 34/100\n",
      "235/235 [==============================] - 4s 18ms/step - loss: 0.0038 - val_loss: 0.0039\n",
      "Epoch 35/100\n",
      "235/235 [==============================] - 4s 19ms/step - loss: 0.0038 - val_loss: 0.0039\n",
      "Epoch 36/100\n",
      "235/235 [==============================] - 5s 20ms/step - loss: 0.0038 - val_loss: 0.0039\n",
      "Epoch 37/100\n",
      "235/235 [==============================] - 5s 19ms/step - loss: 0.0038 - val_loss: 0.0039\n",
      "Epoch 38/100\n",
      "235/235 [==============================] - 4s 19ms/step - loss: 0.0038 - val_loss: 0.0038\n",
      "Epoch 39/100\n",
      "235/235 [==============================] - 4s 19ms/step - loss: 0.0038 - val_loss: 0.0038\n",
      "Epoch 40/100\n",
      "235/235 [==============================] - 5s 20ms/step - loss: 0.0038 - val_loss: 0.0038\n",
      "Epoch 41/100\n",
      "235/235 [==============================] - 4s 19ms/step - loss: 0.0038 - val_loss: 0.0038\n",
      "Epoch 42/100\n",
      "235/235 [==============================] - 4s 18ms/step - loss: 0.0038 - val_loss: 0.0038\n",
      "Epoch 43/100\n",
      "235/235 [==============================] - 5s 20ms/step - loss: 0.0038 - val_loss: 0.0038\n",
      "Epoch 44/100\n",
      "235/235 [==============================] - 5s 21ms/step - loss: 0.0038 - val_loss: 0.0038\n",
      "Epoch 45/100\n",
      "235/235 [==============================] - 5s 19ms/step - loss: 0.0038 - val_loss: 0.0038\n",
      "Epoch 46/100\n",
      "235/235 [==============================] - 5s 20ms/step - loss: 0.0038 - val_loss: 0.0038\n",
      "Epoch 47/100\n",
      "235/235 [==============================] - 5s 21ms/step - loss: 0.0038 - val_loss: 0.0038\n",
      "Epoch 48/100\n",
      "235/235 [==============================] - 5s 20ms/step - loss: 0.0038 - val_loss: 0.0038\n",
      "Epoch 49/100\n",
      "235/235 [==============================] - 4s 19ms/step - loss: 0.0037 - val_loss: 0.0038\n",
      "Epoch 50/100\n",
      "235/235 [==============================] - 5s 20ms/step - loss: 0.0037 - val_loss: 0.0038\n",
      "Epoch 51/100\n",
      "235/235 [==============================] - 5s 20ms/step - loss: 0.0037 - val_loss: 0.0038\n",
      "Epoch 52/100\n",
      "235/235 [==============================] - 5s 20ms/step - loss: 0.0037 - val_loss: 0.0038\n",
      "Epoch 53/100\n",
      "235/235 [==============================] - 5s 21ms/step - loss: 0.0037 - val_loss: 0.0038\n",
      "Epoch 54/100\n",
      "235/235 [==============================] - 5s 20ms/step - loss: 0.0037 - val_loss: 0.0038\n",
      "Epoch 55/100\n",
      "235/235 [==============================] - 4s 19ms/step - loss: 0.0037 - val_loss: 0.0038\n",
      "Epoch 56/100\n",
      "235/235 [==============================] - 5s 19ms/step - loss: 0.0037 - val_loss: 0.0038\n",
      "Epoch 57/100\n",
      "235/235 [==============================] - 5s 20ms/step - loss: 0.0037 - val_loss: 0.0037\n",
      "Epoch 58/100\n",
      "235/235 [==============================] - 5s 20ms/step - loss: 0.0037 - val_loss: 0.0037\n",
      "Epoch 59/100\n",
      "235/235 [==============================] - 5s 19ms/step - loss: 0.0037 - val_loss: 0.0037\n",
      "Epoch 60/100\n",
      "235/235 [==============================] - 5s 20ms/step - loss: 0.0037 - val_loss: 0.0037\n",
      "Epoch 61/100\n",
      "235/235 [==============================] - 5s 20ms/step - loss: 0.0037 - val_loss: 0.0037\n",
      "Epoch 62/100\n",
      "235/235 [==============================] - 5s 19ms/step - loss: 0.0037 - val_loss: 0.0037\n",
      "Epoch 63/100\n",
      "235/235 [==============================] - 5s 20ms/step - loss: 0.0037 - val_loss: 0.0037\n",
      "Epoch 64/100\n",
      "235/235 [==============================] - 5s 20ms/step - loss: 0.0037 - val_loss: 0.0037\n",
      "Epoch 65/100\n",
      "235/235 [==============================] - 5s 20ms/step - loss: 0.0037 - val_loss: 0.0037\n",
      "Epoch 66/100\n",
      "235/235 [==============================] - 4s 19ms/step - loss: 0.0037 - val_loss: 0.0037\n",
      "Epoch 67/100\n",
      "235/235 [==============================] - 5s 20ms/step - loss: 0.0037 - val_loss: 0.0037\n",
      "Epoch 68/100\n",
      "235/235 [==============================] - 5s 20ms/step - loss: 0.0037 - val_loss: 0.0037\n",
      "Epoch 69/100\n",
      "235/235 [==============================] - 4s 18ms/step - loss: 0.0037 - val_loss: 0.0037\n",
      "Epoch 70/100\n",
      "235/235 [==============================] - 4s 19ms/step - loss: 0.0037 - val_loss: 0.0037\n",
      "Epoch 71/100\n",
      "235/235 [==============================] - 5s 20ms/step - loss: 0.0037 - val_loss: 0.0037\n",
      "Epoch 72/100\n",
      "235/235 [==============================] - 5s 20ms/step - loss: 0.0037 - val_loss: 0.0037\n",
      "Epoch 73/100\n",
      "235/235 [==============================] - 4s 19ms/step - loss: 0.0037 - val_loss: 0.0037\n",
      "Epoch 74/100\n",
      "235/235 [==============================] - 4s 19ms/step - loss: 0.0037 - val_loss: 0.0037\n",
      "Epoch 75/100\n",
      "235/235 [==============================] - 5s 19ms/step - loss: 0.0037 - val_loss: 0.0037\n",
      "Epoch 76/100\n",
      "235/235 [==============================] - 5s 20ms/step - loss: 0.0037 - val_loss: 0.0037\n",
      "Epoch 77/100\n",
      "235/235 [==============================] - 5s 20ms/step - loss: 0.0037 - val_loss: 0.0037\n",
      "Epoch 78/100\n",
      "235/235 [==============================] - 5s 21ms/step - loss: 0.0037 - val_loss: 0.0037\n",
      "Epoch 79/100\n",
      "235/235 [==============================] - 4s 18ms/step - loss: 0.0037 - val_loss: 0.0037\n",
      "Epoch 80/100\n",
      "235/235 [==============================] - 4s 19ms/step - loss: 0.0037 - val_loss: 0.0037\n",
      "Epoch 81/100\n",
      "235/235 [==============================] - 4s 19ms/step - loss: 0.0037 - val_loss: 0.0037\n",
      "Epoch 82/100\n",
      "235/235 [==============================] - 4s 19ms/step - loss: 0.0037 - val_loss: 0.0037\n",
      "Epoch 83/100\n",
      "235/235 [==============================] - 4s 19ms/step - loss: 0.0037 - val_loss: 0.0037\n",
      "Epoch 84/100\n",
      "235/235 [==============================] - 5s 21ms/step - loss: 0.0037 - val_loss: 0.0037\n",
      "Epoch 85/100\n",
      "235/235 [==============================] - 5s 20ms/step - loss: 0.0037 - val_loss: 0.0037\n",
      "Epoch 86/100\n",
      "235/235 [==============================] - 5s 20ms/step - loss: 0.0037 - val_loss: 0.0037\n",
      "Epoch 87/100\n",
      "235/235 [==============================] - 5s 21ms/step - loss: 0.0037 - val_loss: 0.0037\n",
      "Epoch 88/100\n",
      "235/235 [==============================] - 5s 22ms/step - loss: 0.0037 - val_loss: 0.0037\n",
      "Epoch 89/100\n",
      "235/235 [==============================] - 5s 20ms/step - loss: 0.0037 - val_loss: 0.0037\n",
      "Epoch 90/100\n",
      "235/235 [==============================] - 5s 19ms/step - loss: 0.0037 - val_loss: 0.0037\n",
      "Epoch 91/100\n",
      "235/235 [==============================] - 5s 20ms/step - loss: 0.0037 - val_loss: 0.0037\n",
      "Epoch 92/100\n",
      "235/235 [==============================] - 5s 19ms/step - loss: 0.0037 - val_loss: 0.0037\n",
      "Epoch 93/100\n",
      "235/235 [==============================] - 5s 19ms/step - loss: 0.0036 - val_loss: 0.0037\n",
      "Epoch 94/100\n",
      "235/235 [==============================] - 4s 19ms/step - loss: 0.0036 - val_loss: 0.0037\n",
      "Epoch 95/100\n",
      "235/235 [==============================] - 5s 20ms/step - loss: 0.0036 - val_loss: 0.0037\n",
      "Epoch 96/100\n",
      "235/235 [==============================] - 5s 19ms/step - loss: 0.0036 - val_loss: 0.0037\n",
      "Epoch 97/100\n",
      "235/235 [==============================] - 4s 18ms/step - loss: 0.0036 - val_loss: 0.0037\n",
      "Epoch 98/100\n",
      "235/235 [==============================] - 5s 20ms/step - loss: 0.0036 - val_loss: 0.0037\n",
      "Epoch 99/100\n",
      "235/235 [==============================] - 5s 22ms/step - loss: 0.0036 - val_loss: 0.0037\n",
      "Epoch 100/100\n",
      "235/235 [==============================] - 5s 20ms/step - loss: 0.0036 - val_loss: 0.0037\n"
     ]
    },
    {
     "data": {
      "text/plain": [
       "<keras.callbacks.History at 0x148caefaca0>"
      ]
     },
     "execution_count": 26,
     "metadata": {},
     "output_type": "execute_result"
    }
   ],
   "source": [
    "autoencoder = keras.Model(input_img, decoded)\n",
    "autoencoder.compile(optimizer='adam', loss='binary_crossentropy')\n",
    "\n",
    "autoencoder.fit(x_train, x_train,\n",
    "                epochs=100,\n",
    "                batch_size=256,\n",
    "                shuffle=True,\n",
    "                validation_data=(x_test, x_test))"
   ]
  },
  {
   "cell_type": "code",
   "execution_count": 28,
   "id": "a5aaaf8c",
   "metadata": {},
   "outputs": [
    {
     "data": {
      "image/png": "[encoded data removed]",
      "text/plain": [
       "<Figure size 1440x288 with 20 Axes>"
      ]
     },
     "metadata": {
      "needs_background": "light"
     },
     "output_type": "display_data"
    }
   ],
   "source": [
    "# Use Matplotlib (don't ask)\n",
    "import matplotlib.pyplot as plt\n",
    "\n",
    "n = 10  # How many digits we will display\n",
    "plt.figure(figsize=(20, 4))\n",
    "for i in range(n):\n",
    "    # Display original\n",
    "    ax = plt.subplot(2, n, i + 1)\n",
    "    plt.imshow(x_test[i].reshape(28, 28))\n",
    "    plt.gray()\n",
    "    ax.get_xaxis().set_visible(False)\n",
    "    ax.get_yaxis().set_visible(False)\n",
    "\n",
    "    # Display reconstruction\n",
    "    ax = plt.subplot(2, n, i + 1 + n)\n",
    "    plt.imshow(decoded_imgs[i].reshape(28, 28))\n",
    "    plt.gray()\n",
    "    ax.get_xaxis().set_visible(False)\n",
    "    ax.get_yaxis().set_visible(False)\n",
    "plt.show()"
   ]
  },
  {
   "cell_type": "code",
   "execution_count": null,
   "id": "76a8dda6",
   "metadata": {},
   "outputs": [],
   "source": []
  },
  {
   "cell_type": "markdown",
   "id": "73abc49a",
   "metadata": {},
   "source": [
    "# Convolutional autoencoder\n"
   ]
  },
  {
   "cell_type": "code",
   "execution_count": 36,
   "id": "6afb31d1",
   "metadata": {},
   "outputs": [],
   "source": [
    "'''Since our inputs are images, it makes sense to use convolutional neural networks (convnets) as encoders and decoders.\n",
    "In practical settings, autoencoders applied to images are always convolutional autoencoders --they simply perform much better.\n",
    "\n",
    "Let's implement one. The encoder will consist in a stack of Conv2D and MaxPooling2D layers\n",
    "(max pooling being used for spatial down-sampling), while the decoder will consist in a stack of \n",
    "Conv2D and UpSampling2D layers.\n",
    "'''"
   ]
  },
  {
   "cell_type": "code",
   "execution_count": 37,
   "id": "3aee0a21",
   "metadata": {},
   "outputs": [],
   "source": [
    "import keras\n",
    "from keras import layers\n",
    "\n",
    "input_img = keras.Input(shape=(28, 28, 1))\n",
    "\n",
    "x = layers.Conv2D(16, (3, 3), activation='relu', padding='same')(input_img)\n",
    "x = layers.MaxPooling2D((2, 2), padding='same')(x)\n",
    "x = layers.Conv2D(8, (3, 3), activation='relu', padding='same')(x)\n",
    "x = layers.MaxPooling2D((2, 2), padding='same')(x)\n",
    "x = layers.Conv2D(8, (3, 3), activation='relu', padding='same')(x)\n",
    "encoded = layers.MaxPooling2D((2, 2), padding='same')(x)\n",
    "\n",
    "# at this point the representation is (4, 4, 8) i.e. 128-dimensional\n",
    "\n",
    "x = layers.Conv2D(8, (3, 3), activation='relu', padding='same')(encoded)\n",
    "x = layers.UpSampling2D((2, 2))(x)\n",
    "x = layers.Conv2D(8, (3, 3), activation='relu', padding='same')(x)\n",
    "x = layers.UpSampling2D((2, 2))(x)\n",
    "x = layers.Conv2D(16, (3, 3), activation='relu')(x)\n",
    "x = layers.UpSampling2D((2, 2))(x)\n",
    "decoded = layers.Conv2D(1, (3, 3), activation='sigmoid', padding='same')(x)\n",
    "\n",
    "autoencoder = keras.Model(input_img, decoded)\n",
    "autoencoder.compile(optimizer='adam', loss='binary_crossentropy')"
   ]
  },
  {
   "cell_type": "code",
   "execution_count": 38,
   "id": "4504323f",
   "metadata": {},
   "outputs": [],
   "source": [
    "# To train it, we will use the original MNIST digits with shape (samples, 3, 28, 28), and we will just\n",
    "# normalize pixel values between 0 and 1.\n",
    "\n"
   ]
  },
  {
   "cell_type": "code",
   "execution_count": 39,
   "id": "4cc66349",
   "metadata": {},
   "outputs": [],
   "source": [
    "from keras.datasets import mnist\n",
    "import numpy as np\n",
    "\n",
    "(x_train, _), (x_test, _) = mnist.load_data()\n",
    "\n",
    "x_train = x_train.astype('float32') / 255.\n",
    "x_test = x_test.astype('float32') / 255.\n",
    "x_train = np.reshape(x_train, (len(x_train), 28, 28, 1))\n",
    "x_test = np.reshape(x_test, (len(x_test), 28, 28, 1))"
   ]
  },
  {
   "cell_type": "code",
   "execution_count": 40,
   "id": "b2aab6b7",
   "metadata": {},
   "outputs": [],
   "source": [
    "# First, let's open up a terminal and start a TensorBoard server that will read logs stored at /tmp/autoencoder.\n",
    "\n"
   ]
  },
  {
   "cell_type": "code",
   "execution_count": 41,
   "id": "8a840e7e",
   "metadata": {},
   "outputs": [],
   "source": [
    "tensorboard --logdir=/tmp/autoencoder\n",
    "\n",
    "# Then let's train our model. In the callbacks list we pass an instance of the TensorBoard callback. After every epoch, \n",
    "# this callback will write logs to /tmp/autoencoder, which can be read by our TensorBoard server.\n",
    "\n"
   ]
  },
  {
   "cell_type": "code",
   "execution_count": 42,
   "id": "dd506454",
   "metadata": {},
   "outputs": [],
   "source": [
    "from keras.callbacks import TensorBoard\n",
    "\n",
    "autoencoder.fit(x_train, x_train,\n",
    "                epochs=20,\n",
    "                batch_size=128,\n",
    "                shuffle=True,\n",
    "                validation_data=(x_test, x_test),\n",
    "                callbacks=[TensorBoard(log_dir='/tmp/autoencoder')])"
   ]
  },
  {
   "cell_type": "code",
   "execution_count": null,
   "id": "a273cda4",
   "metadata": {},
   "outputs": [],
   "source": [
    "decoded_imgs = autoencoder.predict(x_test)\n",
    "\n",
    "n = 10\n",
    "plt.figure(figsize=(20, 4))\n",
    "for i in range(1, n + 1):\n",
    "    # Display original\n",
    "    ax = plt.subplot(2, n, i)\n",
    "    plt.imshow(x_test[i].reshape(28, 28))\n",
    "    plt.gray()\n",
    "    ax.get_xaxis().set_visible(False)\n",
    "    ax.get_yaxis().set_visible(False)\n",
    "\n",
    "    # Display reconstruction\n",
    "    ax = plt.subplot(2, n, i + n)\n",
    "    plt.imshow(decoded_imgs[i].reshape(28, 28))\n",
    "    plt.gray()\n",
    "    ax.get_xaxis().set_visible(False)\n",
    "    ax.get_yaxis().set_visible(False)\n",
    "plt.show()"
   ]
  }
 ],
 "metadata": {
  "kernelspec": {
   "display_name": "Python 3 (ipykernel)",
   "language": "python",
   "name": "python3"
  },
  "language_info": {
   "codemirror_mode": {
    "name": "ipython",
    "version": 3
   },
   "file_extension": ".py",
   "mimetype": "text/x-python",
   "name": "python",
   "nbconvert_exporter": "python",
   "pygments_lexer": "ipython3",
   "version": "3.9.7"
  }
 },
 "nbformat": 4,
 "nbformat_minor": 5
}
