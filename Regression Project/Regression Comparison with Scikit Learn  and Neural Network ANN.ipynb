{
 "cells": [
  {
   "cell_type": "code",
   "execution_count": 49,
   "id": "e576c0f1",
   "metadata": {},
   "outputs": [
    {
     "data": {
      "text/plain": [
       "'1.12.0+cpu'"
      ]
     },
     "execution_count": 49,
     "metadata": {},
     "output_type": "execute_result"
    }
   ],
   "source": [
    "import torch\n",
    "torch. __version__"
   ]
  },
  {
   "cell_type": "code",
   "execution_count": null,
   "id": "fb0bc775",
   "metadata": {},
   "outputs": [],
   "source": []
  },
  {
   "cell_type": "code",
   "execution_count": 79,
   "id": "42bcc16c",
   "metadata": {},
   "outputs": [],
   "source": [
    "from sklearn.datasets import load_boston\n",
    "from sklearn import preprocessing\n",
    "from sklearn.metrics import r2_score\n",
    "import pandas as pd\n",
    "import numpy as np\n",
    "import matplotlib.pylab as plt\n",
    "import seaborn as sns\n",
    "sns.set()\n",
    "import torch\n",
    "import torch.nn as nn\n",
    "import torch.nn.functional as F\n",
    "import torch.optim as optim"
   ]
  },
  {
   "cell_type": "code",
   "execution_count": null,
   "id": "c3a45e22",
   "metadata": {},
   "outputs": [],
   "source": []
  },
  {
   "cell_type": "code",
   "execution_count": 80,
   "id": "cc85982a",
   "metadata": {},
   "outputs": [],
   "source": [
    "#dataset = pd.read_csv(\"E:/MS_AI_IUB_DATASETS_2022/machine learning dataset/boston.csv\")\n",
    "\n",
    "# from sklearn.datasets import load_boston\n",
    "dataset = load_boston()"
   ]
  },
  {
   "cell_type": "code",
   "execution_count": 81,
   "id": "25f1d0f4",
   "metadata": {},
   "outputs": [
    {
     "data": {
      "text/html": [
       "<div>\n",
       "<style scoped>\n",
       "    .dataframe tbody tr th:only-of-type {\n",
       "        vertical-align: middle;\n",
       "    }\n",
       "\n",
       "    .dataframe tbody tr th {\n",
       "        vertical-align: top;\n",
       "    }\n",
       "\n",
       "    .dataframe thead th {\n",
       "        text-align: right;\n",
       "    }\n",
       "</style>\n",
       "<table border=\"1\" class=\"dataframe\">\n",
       "  <thead>\n",
       "    <tr style=\"text-align: right;\">\n",
       "      <th></th>\n",
       "      <th>CRIM</th>\n",
       "      <th>ZN</th>\n",
       "      <th>INDUS</th>\n",
       "      <th>CHAS</th>\n",
       "      <th>NOX</th>\n",
       "      <th>RM</th>\n",
       "      <th>AGE</th>\n",
       "      <th>DIS</th>\n",
       "      <th>RAD</th>\n",
       "      <th>TAX</th>\n",
       "      <th>PTRATIO</th>\n",
       "      <th>B</th>\n",
       "      <th>LSTAT</th>\n",
       "      <th>Price</th>\n",
       "    </tr>\n",
       "  </thead>\n",
       "  <tbody>\n",
       "    <tr>\n",
       "      <th>0</th>\n",
       "      <td>0.00632</td>\n",
       "      <td>18.0</td>\n",
       "      <td>2.31</td>\n",
       "      <td>0.0</td>\n",
       "      <td>0.538</td>\n",
       "      <td>6.575</td>\n",
       "      <td>65.2</td>\n",
       "      <td>4.0900</td>\n",
       "      <td>1.0</td>\n",
       "      <td>296.0</td>\n",
       "      <td>15.3</td>\n",
       "      <td>396.90</td>\n",
       "      <td>4.98</td>\n",
       "      <td>24.0</td>\n",
       "    </tr>\n",
       "    <tr>\n",
       "      <th>1</th>\n",
       "      <td>0.02731</td>\n",
       "      <td>0.0</td>\n",
       "      <td>7.07</td>\n",
       "      <td>0.0</td>\n",
       "      <td>0.469</td>\n",
       "      <td>6.421</td>\n",
       "      <td>78.9</td>\n",
       "      <td>4.9671</td>\n",
       "      <td>2.0</td>\n",
       "      <td>242.0</td>\n",
       "      <td>17.8</td>\n",
       "      <td>396.90</td>\n",
       "      <td>9.14</td>\n",
       "      <td>21.6</td>\n",
       "    </tr>\n",
       "    <tr>\n",
       "      <th>2</th>\n",
       "      <td>0.02729</td>\n",
       "      <td>0.0</td>\n",
       "      <td>7.07</td>\n",
       "      <td>0.0</td>\n",
       "      <td>0.469</td>\n",
       "      <td>7.185</td>\n",
       "      <td>61.1</td>\n",
       "      <td>4.9671</td>\n",
       "      <td>2.0</td>\n",
       "      <td>242.0</td>\n",
       "      <td>17.8</td>\n",
       "      <td>392.83</td>\n",
       "      <td>4.03</td>\n",
       "      <td>34.7</td>\n",
       "    </tr>\n",
       "    <tr>\n",
       "      <th>3</th>\n",
       "      <td>0.03237</td>\n",
       "      <td>0.0</td>\n",
       "      <td>2.18</td>\n",
       "      <td>0.0</td>\n",
       "      <td>0.458</td>\n",
       "      <td>6.998</td>\n",
       "      <td>45.8</td>\n",
       "      <td>6.0622</td>\n",
       "      <td>3.0</td>\n",
       "      <td>222.0</td>\n",
       "      <td>18.7</td>\n",
       "      <td>394.63</td>\n",
       "      <td>2.94</td>\n",
       "      <td>33.4</td>\n",
       "    </tr>\n",
       "    <tr>\n",
       "      <th>4</th>\n",
       "      <td>0.06905</td>\n",
       "      <td>0.0</td>\n",
       "      <td>2.18</td>\n",
       "      <td>0.0</td>\n",
       "      <td>0.458</td>\n",
       "      <td>7.147</td>\n",
       "      <td>54.2</td>\n",
       "      <td>6.0622</td>\n",
       "      <td>3.0</td>\n",
       "      <td>222.0</td>\n",
       "      <td>18.7</td>\n",
       "      <td>396.90</td>\n",
       "      <td>5.33</td>\n",
       "      <td>36.2</td>\n",
       "    </tr>\n",
       "  </tbody>\n",
       "</table>\n",
       "</div>"
      ],
      "text/plain": [
       "      CRIM    ZN  INDUS  CHAS    NOX     RM   AGE     DIS  RAD    TAX  \\\n",
       "0  0.00632  18.0   2.31   0.0  0.538  6.575  65.2  4.0900  1.0  296.0   \n",
       "1  0.02731   0.0   7.07   0.0  0.469  6.421  78.9  4.9671  2.0  242.0   \n",
       "2  0.02729   0.0   7.07   0.0  0.469  7.185  61.1  4.9671  2.0  242.0   \n",
       "3  0.03237   0.0   2.18   0.0  0.458  6.998  45.8  6.0622  3.0  222.0   \n",
       "4  0.06905   0.0   2.18   0.0  0.458  7.147  54.2  6.0622  3.0  222.0   \n",
       "\n",
       "   PTRATIO       B  LSTAT  Price  \n",
       "0     15.3  396.90   4.98   24.0  \n",
       "1     17.8  396.90   9.14   21.6  \n",
       "2     17.8  392.83   4.03   34.7  \n",
       "3     18.7  394.63   2.94   33.4  \n",
       "4     18.7  396.90   5.33   36.2  "
      ]
     },
     "execution_count": 81,
     "metadata": {},
     "output_type": "execute_result"
    }
   ],
   "source": [
    "df=pd.DataFrame(dataset.data)\n",
    "df.columns=dataset.feature_names\n",
    "df[\"Price\"]=dataset.target\n",
    "df.head()"
   ]
  },
  {
   "cell_type": "code",
   "execution_count": null,
   "id": "0dd73406",
   "metadata": {},
   "outputs": [],
   "source": []
  },
  {
   "cell_type": "code",
   "execution_count": 82,
   "id": "ccaf19af",
   "metadata": {},
   "outputs": [],
   "source": [
    "TargetName = \"PRICES\"\n",
    "FeaturesName = [\n",
    "              #-- \"Crime occurrence rate per unit population by town\"\n",
    "              \"CRIM\",\n",
    "              #-- \"Percentage of 25000-squared-feet-area house\"\n",
    "              'ZN',\n",
    "              #-- \"Percentage of non-retail land area by town\"\n",
    "              'INDUS',\n",
    "              #-- \"Index for Charlse river: 0 is near, 1 is far\"\n",
    "              'CHAS',\n",
    "              #-- \"Nitrogen compound concentration\"\n",
    "              'NOX',\n",
    "              #-- \"Average number of rooms per residence\"\n",
    "              'RM',\n",
    "              #-- \"Percentage of buildings built before 1940\"\n",
    "              'AGE',\n",
    "              #-- 'Weighted distance from five employment centers'\n",
    "              \"DIS\",\n",
    "              ##-- \"Index for easy access to highway\"\n",
    "              'RAD',\n",
    "              ##-- \"Tax rate per $100,000\"\n",
    "              'TAX',\n",
    "              ##-- \"Percentage of students and teachers in each town\"\n",
    "              'PTRATIO',\n",
    "              ##-- \"1000(Bk - 0.63)^2, where Bk is the percentage of Black people\"\n",
    "              'B',\n",
    "              ##-- \"Percentage of low-class population\"\n",
    "              'LSTAT',\n",
    "              ]"
   ]
  },
  {
   "cell_type": "code",
   "execution_count": 88,
   "id": "a6446805",
   "metadata": {},
   "outputs": [],
   "source": [
    "y=df[\"Price\"]\n",
    "x=df.drop(\"Price\",axis=1)"
   ]
  },
  {
   "cell_type": "code",
   "execution_count": 89,
   "id": "c4adc6b4",
   "metadata": {},
   "outputs": [],
   "source": [
    "from sklearn.preprocessing import StandardScaler\n",
    "sscaler = StandardScaler()\n",
    "sscaler.fit(x)\n",
    "X_std= sscaler.transform(x)"
   ]
  },
  {
   "cell_type": "code",
   "execution_count": null,
   "id": "98d159e3",
   "metadata": {},
   "outputs": [],
   "source": []
  },
  {
   "cell_type": "code",
   "execution_count": 91,
   "id": "235ae9ee",
   "metadata": {},
   "outputs": [
    {
     "data": {
      "text/plain": [
       "(354, 13)"
      ]
     },
     "execution_count": 91,
     "metadata": {},
     "output_type": "execute_result"
    }
   ],
   "source": [
    "#from sklearn.model_selection import train_test_split\n",
    "X_train,X_test,y_train,y_test=train_test_split(X_std,y,test_size=0.3,random_state=99)\n",
    "X_train.shape"
   ]
  },
  {
   "cell_type": "code",
   "execution_count": 102,
   "id": "089b84b5",
   "metadata": {},
   "outputs": [
    {
     "name": "stdout",
     "output_type": "stream",
     "text": [
      "(354, 13)\n",
      "(354,)\n",
      "\n",
      "(152,)\n",
      "(152, 13)\n"
     ]
    }
   ],
   "source": [
    "# let's see the shape of each dataset\n",
    "\n",
    "print(X_train.shape)\n",
    "print(y_train.shape)\n",
    "print()\n",
    "print(y_test.shape)\n",
    "print(X_test.shape)"
   ]
  },
  {
   "cell_type": "code",
   "execution_count": 124,
   "id": "4be9fee2",
   "metadata": {},
   "outputs": [],
   "source": [
    "# import linear regression library\n",
    "from sklearn.linear_model import LinearRegression\n",
    "\n",
    "# instantiating the model\n",
    "model = LinearRegression()"
   ]
  },
  {
   "cell_type": "code",
   "execution_count": 125,
   "id": "f58cec06",
   "metadata": {},
   "outputs": [
    {
     "data": {
      "text/plain": [
       "LinearRegression()"
      ]
     },
     "execution_count": 125,
     "metadata": {},
     "output_type": "execute_result"
    }
   ],
   "source": [
    "model.fit(X_train, y_train)"
   ]
  },
  {
   "cell_type": "code",
   "execution_count": 126,
   "id": "2bf60bcb",
   "metadata": {},
   "outputs": [],
   "source": [
    "predict = model.predict(X_test)"
   ]
  },
  {
   "cell_type": "code",
   "execution_count": 127,
   "id": "1c0d8173",
   "metadata": {},
   "outputs": [
    {
     "data": {
      "text/plain": [
       "array([34.39031078, 34.72259889, 25.11192059, 24.05948598])"
      ]
     },
     "execution_count": 127,
     "metadata": {},
     "output_type": "execute_result"
    }
   ],
   "source": [
    "predict[:4]"
   ]
  },
  {
   "cell_type": "code",
   "execution_count": 128,
   "id": "9dbb89b5",
   "metadata": {},
   "outputs": [
    {
     "name": "stdout",
     "output_type": "stream",
     "text": [
      "Accuracy of training dataset: 0.764467385910802\n",
      "Accuracy of test dataset: 0.672172641442474\n"
     ]
    }
   ],
   "source": [
    "print(\"Accuracy of training dataset:\", model.score(X_train, y_train))\n",
    "print(\"Accuracy of test dataset:\", model.score(X_test,y_test))"
   ]
  },
  {
   "cell_type": "code",
   "execution_count": null,
   "id": "38f2673b",
   "metadata": {},
   "outputs": [],
   "source": []
  },
  {
   "cell_type": "code",
   "execution_count": 129,
   "id": "9ad302ef",
   "metadata": {},
   "outputs": [
    {
     "data": {
      "text/plain": [
       "array([-1.01,  1.3 ,  0.16,  0.55, -1.59,  2.45,  0.11, -3.17,  2.56,\n",
       "       -2.08, -2.1 ,  0.71, -4.45])"
      ]
     },
     "execution_count": 129,
     "metadata": {},
     "output_type": "execute_result"
    }
   ],
   "source": [
    "# first, let's see the coefficient value (a)\n",
    "model_coef = model.coef_\n",
    "model_coef.round(2)"
   ]
  },
  {
   "cell_type": "code",
   "execution_count": 130,
   "id": "ff008506",
   "metadata": {},
   "outputs": [
    {
     "data": {
      "text/plain": [
       "22.43"
      ]
     },
     "execution_count": 130,
     "metadata": {},
     "output_type": "execute_result"
    }
   ],
   "source": [
    "# model intercept (b)\n",
    "model_intercept = model.intercept_\n",
    "model_intercept.round(2)"
   ]
  },
  {
   "cell_type": "code",
   "execution_count": 131,
   "id": "e3661588",
   "metadata": {},
   "outputs": [
    {
     "name": "stdout",
     "output_type": "stream",
     "text": [
      "[35.4 35.2 24.8 22.6 34.9]\n",
      "\n",
      "[34.39 34.72 25.11 24.06 34.85]\n"
     ]
    }
   ],
   "source": [
    "# predict test dataset\n",
    "y_test_pred = model.predict(X_test)\n",
    "\n",
    "# let's check the prediction and the actual value\n",
    "print(y_test[:5].values)\n",
    "print()\n",
    "print(y_test_pred[:5].round(2))"
   ]
  },
  {
   "cell_type": "code",
   "execution_count": null,
   "id": "141aefd8",
   "metadata": {},
   "outputs": [],
   "source": []
  },
  {
   "cell_type": "code",
   "execution_count": null,
   "id": "723f2bef",
   "metadata": {},
   "outputs": [],
   "source": []
  },
  {
   "cell_type": "code",
   "execution_count": 132,
   "id": "e515ba05",
   "metadata": {},
   "outputs": [
    {
     "name": "stdout",
     "output_type": "stream",
     "text": [
      "NN(\n",
      "  (layer1): Linear(in_features=13, out_features=39, bias=True)\n",
      "  (layer2): Linear(in_features=39, out_features=26, bias=True)\n",
      "  (layer3): Linear(in_features=26, out_features=13, bias=True)\n",
      "  (layer4): Linear(in_features=13, out_features=1, bias=True)\n",
      ")\n"
     ]
    }
   ],
   "source": [
    "class NN(nn.Module):\n",
    "  def __init__(self):\n",
    "    super(NN,self).__init__()\n",
    "    self.layer1=nn.Linear(X_train.shape[1],39)\n",
    "    self.layer2=nn.Linear(39,26)\n",
    "    self.layer3=nn.Linear(26,13)\n",
    "    self.layer4=nn.Linear(13,1)\n",
    "  def forward(self,x):\n",
    "    x=F.relu(self.layer1(x))\n",
    "    x=F.relu(self.layer2(x))\n",
    "    x=F.relu(self.layer3(x))\n",
    "    x=self.layer4(x)\n",
    "    return x\n",
    "model = NN()\n",
    "print(model)"
   ]
  },
  {
   "cell_type": "code",
   "execution_count": 133,
   "id": "1ebc9d24",
   "metadata": {},
   "outputs": [
    {
     "data": {
      "text/plain": [
       "tensor([[-0.3475, -0.4877, -0.4373,  ...,  1.1765,  0.4270, -0.5864],\n",
       "        [ 0.8214, -0.4877,  1.0160,  ...,  0.8066, -3.4386,  1.5877],\n",
       "        [ 0.5939, -0.4877,  1.0160,  ...,  0.8066,  0.3871,  0.6261],\n",
       "        ...,\n",
       "        [-0.4135, -0.4877, -1.2660,  ..., -0.3031,  0.3337,  0.0697],\n",
       "        [-0.4130, -0.4877, -0.7553,  ...,  0.3442,  0.4411, -0.4167],\n",
       "        [-0.3180, -0.4877,  1.5690,  ...,  1.2689,  0.4411,  0.7972]],\n",
       "       requires_grad=True)"
      ]
     },
     "execution_count": 133,
     "metadata": {},
     "output_type": "execute_result"
    }
   ],
   "source": [
    "x=torch.tensor(np.array(X_train),dtype=torch.float32,requires_grad=True)\n",
    "y=torch.tensor(np.array(y_train).reshape(-1,1),dtype=torch.float32)\n",
    "x"
   ]
  },
  {
   "cell_type": "code",
   "execution_count": 134,
   "id": "bd0a12b4",
   "metadata": {},
   "outputs": [],
   "source": [
    "#import torch.optim as optim\n",
    "optimizer= optim.SGD(model.parameters(),lr=0.003)"
   ]
  },
  {
   "cell_type": "code",
   "execution_count": 135,
   "id": "a6281491",
   "metadata": {},
   "outputs": [],
   "source": [
    "loss_fn=nn.MSELoss()"
   ]
  },
  {
   "cell_type": "code",
   "execution_count": 136,
   "id": "9f650da3",
   "metadata": {},
   "outputs": [
    {
     "name": "stdout",
     "output_type": "stream",
     "text": [
      "epochs: 0......loss:593.1489868164062\n",
      "epochs: 5......loss:548.3760375976562\n",
      "epochs: 10......loss:409.08404541015625\n",
      "epochs: 15......loss:39.6767463684082\n",
      "epochs: 20......loss:65.61966705322266\n",
      "epochs: 25......loss:36.56922149658203\n",
      "epochs: 30......loss:60.88459396362305\n",
      "epochs: 35......loss:31.97747802734375\n",
      "epochs: 40......loss:51.60222625732422\n",
      "epochs: 45......loss:28.919971466064453\n",
      "epochs: 50......loss:44.51288604736328\n",
      "epochs: 55......loss:26.421566009521484\n",
      "epochs: 60......loss:38.78044509887695\n",
      "epochs: 65......loss:24.12965965270996\n",
      "epochs: 70......loss:33.93825912475586\n",
      "epochs: 75......loss:22.15535545349121\n",
      "epochs: 80......loss:30.108755111694336\n",
      "epochs: 85......loss:20.553974151611328\n",
      "epochs: 90......loss:27.07488441467285\n",
      "epochs: 95......loss:19.129981994628906\n",
      "epochs: 100......loss:24.503684997558594\n",
      "epochs: 105......loss:17.948020935058594\n",
      "epochs: 110......loss:22.598352432250977\n",
      "epochs: 115......loss:16.913806915283203\n",
      "epochs: 120......loss:21.058170318603516\n",
      "epochs: 125......loss:16.1280460357666\n",
      "epochs: 130......loss:19.706167221069336\n",
      "epochs: 135......loss:15.346187591552734\n",
      "epochs: 140......loss:18.504196166992188\n",
      "epochs: 145......loss:14.675153732299805\n",
      "epochs: 150......loss:17.46875762939453\n",
      "epochs: 155......loss:14.06983757019043\n",
      "epochs: 160......loss:16.569286346435547\n",
      "epochs: 165......loss:13.570137023925781\n",
      "epochs: 170......loss:15.911482810974121\n",
      "epochs: 175......loss:13.086447715759277\n",
      "epochs: 180......loss:15.157699584960938\n",
      "epochs: 185......loss:12.558323860168457\n",
      "epochs: 190......loss:14.406184196472168\n",
      "epochs: 195......loss:12.076786041259766\n"
     ]
    }
   ],
   "source": [
    "epochs=200\n",
    "for i in range(epochs):\n",
    "  #initialize the model parameter\n",
    "  optimizer.zero_grad(set_to_none=True)\n",
    "  #calculate the loss\n",
    "  output=model(x)\n",
    "  loss=loss_fn(output,y)\n",
    "  #backpropagation\n",
    "  loss.backward()\n",
    "  #update the parameters\n",
    "  optimizer.step()\n",
    "  if(i%5==0):\n",
    "    print(f\"epochs: {i}......loss:{loss}\")"
   ]
  },
  {
   "cell_type": "code",
   "execution_count": 137,
   "id": "33c784eb",
   "metadata": {},
   "outputs": [],
   "source": [
    "y_train_pred = model(torch.tensor(X_train,dtype=torch.float32,requires_grad=True))\n",
    "y_test_pred = model(torch.tensor(X_test,dtype=torch.float32))\n",
    "\n",
    "#convert to numpy array\n",
    "y_train_pred = y_train_pred.detach().numpy()\n",
    "y_test_pred = y_test_pred.detach().numpy()"
   ]
  },
  {
   "cell_type": "code",
   "execution_count": 138,
   "id": "48871626",
   "metadata": {},
   "outputs": [
    {
     "name": "stdout",
     "output_type": "stream",
     "text": [
      "0.8374608059594795\n",
      "0.7385250138093074\n"
     ]
    }
   ],
   "source": [
    "test_accuracy=r2_score(y_test,y_test_pred)\n",
    "train_accuracy=r2_score(y_train,y_train_pred)\n",
    "print(train_accuracy)\n",
    "print(test_accuracy)"
   ]
  },
  {
   "cell_type": "code",
   "execution_count": 139,
   "id": "885f4869",
   "metadata": {},
   "outputs": [
    {
     "data": {
      "image/png": "[encoded data removed]",
      "text/plain": [
       "<Figure size 432x288 with 1 Axes>"
      ]
     },
     "metadata": {},
     "output_type": "display_data"
    }
   ],
   "source": [
    "plt.xlabel(\"Price\")\n",
    "plt.ylabel(\"Predicted Price\")\n",
    "plt.scatter(y_train,y_train_pred,color='r',label=\"train_data\")\n",
    "plt.scatter(y_test,y_test_pred,color='b',label=\"test_data\")\n",
    "plt.legend()\n",
    "plt.show()"
   ]
  },
  {
   "cell_type": "code",
   "execution_count": null,
   "id": "bb2d7e4b",
   "metadata": {},
   "outputs": [],
   "source": []
  },
  {
   "cell_type": "code",
   "execution_count": null,
   "id": "711ba1d4",
   "metadata": {},
   "outputs": [],
   "source": []
  }
 ],
 "metadata": {
  "kernelspec": {
   "display_name": "Python 3 (ipykernel)",
   "language": "python",
   "name": "python3"
  },
  "language_info": {
   "codemirror_mode": {
    "name": "ipython",
    "version": 3
   },
   "file_extension": ".py",
   "mimetype": "text/x-python",
   "name": "python",
   "nbconvert_exporter": "python",
   "pygments_lexer": "ipython3",
   "version": "3.9.7"
  }
 },
 "nbformat": 4,
 "nbformat_minor": 5
}
